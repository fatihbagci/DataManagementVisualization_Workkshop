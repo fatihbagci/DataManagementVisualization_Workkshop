{
  "nbformat": 4,
  "nbformat_minor": 0,
  "metadata": {
    "colab": {
      "name": "Data Management and Visualization_Coursera.ipynb",
      "provenance": [],
      "collapsed_sections": []
    },
    "kernelspec": {
      "name": "python3",
      "display_name": "Python 3"
    }
  },
  "cells": [
    {
      "cell_type": "markdown",
      "metadata": {
        "id": "U4sjZJsqCQ_s",
        "colab_type": "text"
      },
      "source": [
        "Importing Libraries"
      ]
    },
    {
      "cell_type": "code",
      "metadata": {
        "id": "5PnOrg348FIe",
        "colab_type": "code",
        "outputId": "492887d7-16aa-4835-f5c6-b69cc6eeb712",
        "colab": {
          "base_uri": "https://localhost:8080/",
          "height": 74
        }
      },
      "source": [
        "import pandas as pd\n",
        "import numpy as np\n",
        "\n",
        "import seaborn\n",
        "import matplotlib.pyplot as plt\n",
        "\n"
      ],
      "execution_count": 0,
      "outputs": [
        {
          "output_type": "stream",
          "text": [
            "/usr/local/lib/python3.6/dist-packages/statsmodels/tools/_testing.py:19: FutureWarning: pandas.util.testing is deprecated. Use the functions in the public API at pandas.testing instead.\n",
            "  import pandas.util.testing as tm\n"
          ],
          "name": "stderr"
        }
      ]
    },
    {
      "cell_type": "markdown",
      "metadata": {
        "id": "5NGG-jnwCXqK",
        "colab_type": "text"
      },
      "source": [
        "Importing Data and Preview of Data"
      ]
    },
    {
      "cell_type": "code",
      "metadata": {
        "id": "notSL6Zw_H2h",
        "colab_type": "code",
        "outputId": "748b6a34-dd2c-4104-f397-a0d4e33f74e3",
        "colab": {
          "base_uri": "https://localhost:8080/",
          "height": 450
        }
      },
      "source": [
        "df = pd.read_csv('ool_pds.csv',index_col=0)\n",
        "df.head()"
      ],
      "execution_count": 0,
      "outputs": [
        {
          "output_type": "execute_result",
          "data": {
            "text/html": [
              "<div>\n",
              "<style scoped>\n",
              "    .dataframe tbody tr th:only-of-type {\n",
              "        vertical-align: middle;\n",
              "    }\n",
              "\n",
              "    .dataframe tbody tr th {\n",
              "        vertical-align: top;\n",
              "    }\n",
              "\n",
              "    .dataframe thead th {\n",
              "        text-align: right;\n",
              "    }\n",
              "</style>\n",
              "<table border=\"1\" class=\"dataframe\">\n",
              "  <thead>\n",
              "    <tr style=\"text-align: right;\">\n",
              "      <th></th>\n",
              "      <th>W1_CASEID</th>\n",
              "      <th>W2_CASEID2</th>\n",
              "      <th>W1_TM_START</th>\n",
              "      <th>W1_TM_FINISH</th>\n",
              "      <th>W1_WEIGHT1</th>\n",
              "      <th>W1_WEIGHT2</th>\n",
              "      <th>W1_WEIGHT3</th>\n",
              "      <th>W2_TM_START</th>\n",
              "      <th>W2_TM_FINISH</th>\n",
              "      <th>W2_DURATION</th>\n",
              "      <th>W2_QFLAG</th>\n",
              "      <th>W2_WEIGHT1</th>\n",
              "      <th>W2_WEIGHT2</th>\n",
              "      <th>W2_WEIGHT3</th>\n",
              "      <th>W1_A1</th>\n",
              "      <th>W1_A2</th>\n",
              "      <th>W1_A4</th>\n",
              "      <th>W1_A5A</th>\n",
              "      <th>W1_A5A_OTHER_TEXT</th>\n",
              "      <th>W1_A5B</th>\n",
              "      <th>W1_A5B_OTHER_TEXT</th>\n",
              "      <th>W1_A10</th>\n",
              "      <th>W1_A11</th>\n",
              "      <th>W1_A12</th>\n",
              "      <th>W1_A12A</th>\n",
              "      <th>W1_B1</th>\n",
              "      <th>W1_B2</th>\n",
              "      <th>W1_B3</th>\n",
              "      <th>W1_B4</th>\n",
              "      <th>W1_C1</th>\n",
              "      <th>W1_C1_OTHER_TEXT</th>\n",
              "      <th>W1_C1B</th>\n",
              "      <th>W1_C1C</th>\n",
              "      <th>W1_C2</th>\n",
              "      <th>W1_D1</th>\n",
              "      <th>W1_D2</th>\n",
              "      <th>W1_D3</th>\n",
              "      <th>W1_D4</th>\n",
              "      <th>W1_D5</th>\n",
              "      <th>W1_D6</th>\n",
              "      <th>...</th>\n",
              "      <th>W2_ORDER_QF5_B</th>\n",
              "      <th>W2_ORDER_QF5_C</th>\n",
              "      <th>W2_ORDER_QF5_D</th>\n",
              "      <th>W2_ORDER_QF6_A</th>\n",
              "      <th>W2_ORDER_QF6_B</th>\n",
              "      <th>W2_ORDER_QF6_C</th>\n",
              "      <th>W2_ORDER_QF6_D</th>\n",
              "      <th>W2_ORDER_QF7_A</th>\n",
              "      <th>W2_ORDER_QF7_B</th>\n",
              "      <th>W2_ORDER_QF7_C</th>\n",
              "      <th>W2_ORDER_QF7_D</th>\n",
              "      <th>W2_ORDER_QF10_A</th>\n",
              "      <th>W2_ORDER_QF10_B</th>\n",
              "      <th>W2_ORDER_QF10_C</th>\n",
              "      <th>W2_ORDER_QF10_D</th>\n",
              "      <th>W2_ORDER_M10_M11</th>\n",
              "      <th>PPAGE</th>\n",
              "      <th>PPAGECAT</th>\n",
              "      <th>PPAGECT4</th>\n",
              "      <th>PPEDUC</th>\n",
              "      <th>PPEDUCAT</th>\n",
              "      <th>PPETHM</th>\n",
              "      <th>PPGENDER</th>\n",
              "      <th>PPHHHEAD</th>\n",
              "      <th>PPHHSIZE</th>\n",
              "      <th>PPHOUSE</th>\n",
              "      <th>PPINCIMP</th>\n",
              "      <th>PPMARIT</th>\n",
              "      <th>PPMSACAT</th>\n",
              "      <th>PPREG4</th>\n",
              "      <th>PPREG9</th>\n",
              "      <th>PPRENT</th>\n",
              "      <th>PPSTATEN</th>\n",
              "      <th>PPT01</th>\n",
              "      <th>PPT1317</th>\n",
              "      <th>PPT18OV</th>\n",
              "      <th>PPT25</th>\n",
              "      <th>PPT612</th>\n",
              "      <th>PPWORK</th>\n",
              "      <th>PPNET</th>\n",
              "    </tr>\n",
              "    <tr>\n",
              "      <th>CASEID</th>\n",
              "      <th></th>\n",
              "      <th></th>\n",
              "      <th></th>\n",
              "      <th></th>\n",
              "      <th></th>\n",
              "      <th></th>\n",
              "      <th></th>\n",
              "      <th></th>\n",
              "      <th></th>\n",
              "      <th></th>\n",
              "      <th></th>\n",
              "      <th></th>\n",
              "      <th></th>\n",
              "      <th></th>\n",
              "      <th></th>\n",
              "      <th></th>\n",
              "      <th></th>\n",
              "      <th></th>\n",
              "      <th></th>\n",
              "      <th></th>\n",
              "      <th></th>\n",
              "      <th></th>\n",
              "      <th></th>\n",
              "      <th></th>\n",
              "      <th></th>\n",
              "      <th></th>\n",
              "      <th></th>\n",
              "      <th></th>\n",
              "      <th></th>\n",
              "      <th></th>\n",
              "      <th></th>\n",
              "      <th></th>\n",
              "      <th></th>\n",
              "      <th></th>\n",
              "      <th></th>\n",
              "      <th></th>\n",
              "      <th></th>\n",
              "      <th></th>\n",
              "      <th></th>\n",
              "      <th></th>\n",
              "      <th></th>\n",
              "      <th></th>\n",
              "      <th></th>\n",
              "      <th></th>\n",
              "      <th></th>\n",
              "      <th></th>\n",
              "      <th></th>\n",
              "      <th></th>\n",
              "      <th></th>\n",
              "      <th></th>\n",
              "      <th></th>\n",
              "      <th></th>\n",
              "      <th></th>\n",
              "      <th></th>\n",
              "      <th></th>\n",
              "      <th></th>\n",
              "      <th></th>\n",
              "      <th></th>\n",
              "      <th></th>\n",
              "      <th></th>\n",
              "      <th></th>\n",
              "      <th></th>\n",
              "      <th></th>\n",
              "      <th></th>\n",
              "      <th></th>\n",
              "      <th></th>\n",
              "      <th></th>\n",
              "      <th></th>\n",
              "      <th></th>\n",
              "      <th></th>\n",
              "      <th></th>\n",
              "      <th></th>\n",
              "      <th></th>\n",
              "      <th></th>\n",
              "      <th></th>\n",
              "      <th></th>\n",
              "      <th></th>\n",
              "      <th></th>\n",
              "      <th></th>\n",
              "      <th></th>\n",
              "      <th></th>\n",
              "    </tr>\n",
              "  </thead>\n",
              "  <tbody>\n",
              "    <tr>\n",
              "      <th>1</th>\n",
              "      <td>2</td>\n",
              "      <td>820</td>\n",
              "      <td>BLANKED FOR CONFIDENTIALITY - ICPSR</td>\n",
              "      <td>BLANKED FOR CONFIDENTIALITY - ICPSR</td>\n",
              "      <td>4.8559</td>\n",
              "      <td>2.4181</td>\n",
              "      <td>2.3315</td>\n",
              "      <td>BLANKED FOR CONFIDENTIALITY - ICPSR</td>\n",
              "      <td>BLANKED FOR CONFIDENTIALITY - ICPSR</td>\n",
              "      <td>23</td>\n",
              "      <td>1</td>\n",
              "      <td>5.2819</td>\n",
              "      <td>2.7334</td>\n",
              "      <td>2.5288</td>\n",
              "      <td>2</td>\n",
              "      <td>2</td>\n",
              "      <td>1</td>\n",
              "      <td>1</td>\n",
              "      <td></td>\n",
              "      <td></td>\n",
              "      <td></td>\n",
              "      <td>4</td>\n",
              "      <td>5</td>\n",
              "      <td>2</td>\n",
              "      <td>1</td>\n",
              "      <td>3</td>\n",
              "      <td>3</td>\n",
              "      <td>4</td>\n",
              "      <td>5</td>\n",
              "      <td>1</td>\n",
              "      <td></td>\n",
              "      <td>1</td>\n",
              "      <td></td>\n",
              "      <td>7</td>\n",
              "      <td>0</td>\n",
              "      <td>70</td>\n",
              "      <td>0</td>\n",
              "      <td>50</td>\n",
              "      <td>70</td>\n",
              "      <td>85</td>\n",
              "      <td>...</td>\n",
              "      <td>1</td>\n",
              "      <td>2</td>\n",
              "      <td>3</td>\n",
              "      <td>1</td>\n",
              "      <td>4</td>\n",
              "      <td>3</td>\n",
              "      <td>2</td>\n",
              "      <td>4</td>\n",
              "      <td>2</td>\n",
              "      <td>1</td>\n",
              "      <td>3</td>\n",
              "      <td>3</td>\n",
              "      <td>1</td>\n",
              "      <td>2</td>\n",
              "      <td>4</td>\n",
              "      <td>1</td>\n",
              "      <td>56</td>\n",
              "      <td>5</td>\n",
              "      <td>3</td>\n",
              "      <td>9</td>\n",
              "      <td>2</td>\n",
              "      <td>4</td>\n",
              "      <td>2</td>\n",
              "      <td>1</td>\n",
              "      <td>2</td>\n",
              "      <td>1</td>\n",
              "      <td>12</td>\n",
              "      <td>1</td>\n",
              "      <td>1</td>\n",
              "      <td>2</td>\n",
              "      <td>3</td>\n",
              "      <td>1</td>\n",
              "      <td>32</td>\n",
              "      <td>0</td>\n",
              "      <td>0</td>\n",
              "      <td>2</td>\n",
              "      <td>0</td>\n",
              "      <td>0</td>\n",
              "      <td>3</td>\n",
              "      <td>1</td>\n",
              "    </tr>\n",
              "    <tr>\n",
              "      <th>2</th>\n",
              "      <td>3</td>\n",
              "      <td></td>\n",
              "      <td>BLANKED FOR CONFIDENTIALITY - ICPSR</td>\n",
              "      <td>BLANKED FOR CONFIDENTIALITY - ICPSR</td>\n",
              "      <td>0.0415</td>\n",
              "      <td>0.2091</td>\n",
              "      <td>0.1954</td>\n",
              "      <td>BLANKED FOR CONFIDENTIALITY - ICPSR</td>\n",
              "      <td>BLANKED FOR CONFIDENTIALITY - ICPSR</td>\n",
              "      <td></td>\n",
              "      <td></td>\n",
              "      <td></td>\n",
              "      <td></td>\n",
              "      <td></td>\n",
              "      <td>3</td>\n",
              "      <td>2</td>\n",
              "      <td>2</td>\n",
              "      <td></td>\n",
              "      <td></td>\n",
              "      <td>2</td>\n",
              "      <td></td>\n",
              "      <td>3</td>\n",
              "      <td>4</td>\n",
              "      <td>1</td>\n",
              "      <td>1</td>\n",
              "      <td>4</td>\n",
              "      <td>2</td>\n",
              "      <td>4</td>\n",
              "      <td>3</td>\n",
              "      <td>2</td>\n",
              "      <td></td>\n",
              "      <td>1</td>\n",
              "      <td></td>\n",
              "      <td>4</td>\n",
              "      <td>85</td>\n",
              "      <td>0</td>\n",
              "      <td>90</td>\n",
              "      <td>0</td>\n",
              "      <td>10</td>\n",
              "      <td>25</td>\n",
              "      <td>...</td>\n",
              "      <td></td>\n",
              "      <td></td>\n",
              "      <td></td>\n",
              "      <td></td>\n",
              "      <td></td>\n",
              "      <td></td>\n",
              "      <td></td>\n",
              "      <td></td>\n",
              "      <td></td>\n",
              "      <td></td>\n",
              "      <td></td>\n",
              "      <td></td>\n",
              "      <td></td>\n",
              "      <td></td>\n",
              "      <td></td>\n",
              "      <td></td>\n",
              "      <td>59</td>\n",
              "      <td>5</td>\n",
              "      <td>3</td>\n",
              "      <td>7</td>\n",
              "      <td>1</td>\n",
              "      <td>2</td>\n",
              "      <td>1</td>\n",
              "      <td>1</td>\n",
              "      <td>2</td>\n",
              "      <td>3</td>\n",
              "      <td>7</td>\n",
              "      <td>6</td>\n",
              "      <td>1</td>\n",
              "      <td>4</td>\n",
              "      <td>9</td>\n",
              "      <td>2</td>\n",
              "      <td>93</td>\n",
              "      <td>0</td>\n",
              "      <td>0</td>\n",
              "      <td>2</td>\n",
              "      <td>0</td>\n",
              "      <td>0</td>\n",
              "      <td>6</td>\n",
              "      <td>1</td>\n",
              "    </tr>\n",
              "    <tr>\n",
              "      <th>3</th>\n",
              "      <td>4</td>\n",
              "      <td>1198</td>\n",
              "      <td>BLANKED FOR CONFIDENTIALITY - ICPSR</td>\n",
              "      <td>BLANKED FOR CONFIDENTIALITY - ICPSR</td>\n",
              "      <td>0.7628</td>\n",
              "      <td>3.8416</td>\n",
              "      <td>3.5907</td>\n",
              "      <td>BLANKED FOR CONFIDENTIALITY - ICPSR</td>\n",
              "      <td>BLANKED FOR CONFIDENTIALITY - ICPSR</td>\n",
              "      <td>19</td>\n",
              "      <td>1</td>\n",
              "      <td>0.9393</td>\n",
              "      <td>4.3768</td>\n",
              "      <td>4.3393</td>\n",
              "      <td>2</td>\n",
              "      <td>2</td>\n",
              "      <td>1</td>\n",
              "      <td>2</td>\n",
              "      <td></td>\n",
              "      <td></td>\n",
              "      <td></td>\n",
              "      <td>3</td>\n",
              "      <td>1</td>\n",
              "      <td>1</td>\n",
              "      <td>2</td>\n",
              "      <td>4</td>\n",
              "      <td>4</td>\n",
              "      <td>4</td>\n",
              "      <td>4</td>\n",
              "      <td>3</td>\n",
              "      <td></td>\n",
              "      <td></td>\n",
              "      <td>2</td>\n",
              "      <td>3</td>\n",
              "      <td>75</td>\n",
              "      <td>35</td>\n",
              "      <td>80</td>\n",
              "      <td>40</td>\n",
              "      <td>20</td>\n",
              "      <td>65</td>\n",
              "      <td>...</td>\n",
              "      <td>2</td>\n",
              "      <td>3</td>\n",
              "      <td>4</td>\n",
              "      <td>4</td>\n",
              "      <td>1</td>\n",
              "      <td>2</td>\n",
              "      <td>3</td>\n",
              "      <td>4</td>\n",
              "      <td>3</td>\n",
              "      <td>1</td>\n",
              "      <td>2</td>\n",
              "      <td>4</td>\n",
              "      <td>1</td>\n",
              "      <td>3</td>\n",
              "      <td>2</td>\n",
              "      <td>1</td>\n",
              "      <td>36</td>\n",
              "      <td>3</td>\n",
              "      <td>2</td>\n",
              "      <td>12</td>\n",
              "      <td>4</td>\n",
              "      <td>2</td>\n",
              "      <td>1</td>\n",
              "      <td>1</td>\n",
              "      <td>4</td>\n",
              "      <td>1</td>\n",
              "      <td>15</td>\n",
              "      <td>1</td>\n",
              "      <td>1</td>\n",
              "      <td>3</td>\n",
              "      <td>7</td>\n",
              "      <td>1</td>\n",
              "      <td>74</td>\n",
              "      <td>0</td>\n",
              "      <td>0</td>\n",
              "      <td>2</td>\n",
              "      <td>2</td>\n",
              "      <td>0</td>\n",
              "      <td>1</td>\n",
              "      <td>1</td>\n",
              "    </tr>\n",
              "    <tr>\n",
              "      <th>4</th>\n",
              "      <td>5</td>\n",
              "      <td>240</td>\n",
              "      <td>BLANKED FOR CONFIDENTIALITY - ICPSR</td>\n",
              "      <td>BLANKED FOR CONFIDENTIALITY - ICPSR</td>\n",
              "      <td>0.0089</td>\n",
              "      <td>0.0448</td>\n",
              "      <td>0.0418</td>\n",
              "      <td>BLANKED FOR CONFIDENTIALITY - ICPSR</td>\n",
              "      <td>BLANKED FOR CONFIDENTIALITY - ICPSR</td>\n",
              "      <td>8</td>\n",
              "      <td>1</td>\n",
              "      <td>0.0098</td>\n",
              "      <td>0.0458</td>\n",
              "      <td>0.0454</td>\n",
              "      <td>1</td>\n",
              "      <td>1</td>\n",
              "      <td>1</td>\n",
              "      <td>2</td>\n",
              "      <td></td>\n",
              "      <td></td>\n",
              "      <td></td>\n",
              "      <td>1</td>\n",
              "      <td>8</td>\n",
              "      <td>1</td>\n",
              "      <td>2</td>\n",
              "      <td>5</td>\n",
              "      <td>5</td>\n",
              "      <td>4</td>\n",
              "      <td>3</td>\n",
              "      <td>2</td>\n",
              "      <td></td>\n",
              "      <td>2</td>\n",
              "      <td></td>\n",
              "      <td>2</td>\n",
              "      <td>70</td>\n",
              "      <td>0</td>\n",
              "      <td>100</td>\n",
              "      <td>0</td>\n",
              "      <td>0</td>\n",
              "      <td>0</td>\n",
              "      <td>...</td>\n",
              "      <td>4</td>\n",
              "      <td>2</td>\n",
              "      <td>1</td>\n",
              "      <td>2</td>\n",
              "      <td>3</td>\n",
              "      <td>4</td>\n",
              "      <td>1</td>\n",
              "      <td>4</td>\n",
              "      <td>3</td>\n",
              "      <td>2</td>\n",
              "      <td>1</td>\n",
              "      <td>3</td>\n",
              "      <td>2</td>\n",
              "      <td>1</td>\n",
              "      <td>4</td>\n",
              "      <td>2</td>\n",
              "      <td>70</td>\n",
              "      <td>6</td>\n",
              "      <td>4</td>\n",
              "      <td>13</td>\n",
              "      <td>4</td>\n",
              "      <td>2</td>\n",
              "      <td>1</td>\n",
              "      <td>1</td>\n",
              "      <td>1</td>\n",
              "      <td>3</td>\n",
              "      <td>6</td>\n",
              "      <td>5</td>\n",
              "      <td>1</td>\n",
              "      <td>4</td>\n",
              "      <td>9</td>\n",
              "      <td>2</td>\n",
              "      <td>91</td>\n",
              "      <td>0</td>\n",
              "      <td>0</td>\n",
              "      <td>1</td>\n",
              "      <td>0</td>\n",
              "      <td>0</td>\n",
              "      <td>5</td>\n",
              "      <td>1</td>\n",
              "    </tr>\n",
              "    <tr>\n",
              "      <th>5</th>\n",
              "      <td>6</td>\n",
              "      <td></td>\n",
              "      <td>BLANKED FOR CONFIDENTIALITY - ICPSR</td>\n",
              "      <td>BLANKED FOR CONFIDENTIALITY - ICPSR</td>\n",
              "      <td>1.9532</td>\n",
              "      <td>0.9727</td>\n",
              "      <td>0.9378</td>\n",
              "      <td>BLANKED FOR CONFIDENTIALITY - ICPSR</td>\n",
              "      <td>BLANKED FOR CONFIDENTIALITY - ICPSR</td>\n",
              "      <td></td>\n",
              "      <td></td>\n",
              "      <td></td>\n",
              "      <td></td>\n",
              "      <td></td>\n",
              "      <td>3</td>\n",
              "      <td>2</td>\n",
              "      <td>1</td>\n",
              "      <td>2</td>\n",
              "      <td></td>\n",
              "      <td></td>\n",
              "      <td></td>\n",
              "      <td>3</td>\n",
              "      <td>8</td>\n",
              "      <td>1</td>\n",
              "      <td>2</td>\n",
              "      <td>3</td>\n",
              "      <td>3</td>\n",
              "      <td>4</td>\n",
              "      <td>3</td>\n",
              "      <td>3</td>\n",
              "      <td></td>\n",
              "      <td></td>\n",
              "      <td>2</td>\n",
              "      <td>4</td>\n",
              "      <td>60</td>\n",
              "      <td>15</td>\n",
              "      <td>70</td>\n",
              "      <td>50</td>\n",
              "      <td>0</td>\n",
              "      <td>30</td>\n",
              "      <td>...</td>\n",
              "      <td></td>\n",
              "      <td></td>\n",
              "      <td></td>\n",
              "      <td></td>\n",
              "      <td></td>\n",
              "      <td></td>\n",
              "      <td></td>\n",
              "      <td></td>\n",
              "      <td></td>\n",
              "      <td></td>\n",
              "      <td></td>\n",
              "      <td></td>\n",
              "      <td></td>\n",
              "      <td></td>\n",
              "      <td></td>\n",
              "      <td></td>\n",
              "      <td>37</td>\n",
              "      <td>3</td>\n",
              "      <td>2</td>\n",
              "      <td>12</td>\n",
              "      <td>4</td>\n",
              "      <td>1</td>\n",
              "      <td>2</td>\n",
              "      <td>1</td>\n",
              "      <td>3</td>\n",
              "      <td>1</td>\n",
              "      <td>15</td>\n",
              "      <td>5</td>\n",
              "      <td>1</td>\n",
              "      <td>2</td>\n",
              "      <td>3</td>\n",
              "      <td>1</td>\n",
              "      <td>32</td>\n",
              "      <td>0</td>\n",
              "      <td>0</td>\n",
              "      <td>3</td>\n",
              "      <td>0</td>\n",
              "      <td>0</td>\n",
              "      <td>1</td>\n",
              "      <td>1</td>\n",
              "    </tr>\n",
              "  </tbody>\n",
              "</table>\n",
              "<p>5 rows × 435 columns</p>\n",
              "</div>"
            ],
            "text/plain": [
              "        W1_CASEID W2_CASEID2  ... PPWORK PPNET\n",
              "CASEID                        ...             \n",
              "1               2        820  ...      3     1\n",
              "2               3             ...      6     1\n",
              "3               4       1198  ...      1     1\n",
              "4               5        240  ...      5     1\n",
              "5               6             ...      1     1\n",
              "\n",
              "[5 rows x 435 columns]"
            ]
          },
          "metadata": {
            "tags": []
          },
          "execution_count": 6
        }
      ]
    },
    {
      "cell_type": "code",
      "metadata": {
        "id": "iwciNU4-_-dO",
        "colab_type": "code",
        "outputId": "860f9b04-92b7-46b1-cbf8-19cf49987a4f",
        "colab": {
          "base_uri": "https://localhost:8080/",
          "height": 54
        }
      },
      "source": [
        "print (len(df)) #number of observations (rows)\n",
        "print (len(df.columns)) # number of variables (columns)"
      ],
      "execution_count": 0,
      "outputs": [
        {
          "output_type": "stream",
          "text": [
            "2294\n",
            "435\n"
          ],
          "name": "stdout"
        }
      ]
    },
    {
      "cell_type": "code",
      "metadata": {
        "id": "AL_e40GEAa_d",
        "colab_type": "code",
        "colab": {}
      },
      "source": [
        ""
      ],
      "execution_count": 0,
      "outputs": []
    },
    {
      "cell_type": "markdown",
      "metadata": {
        "id": "YpcaqBKJSwas",
        "colab_type": "text"
      },
      "source": [
        "Converting Data Types"
      ]
    },
    {
      "cell_type": "code",
      "metadata": {
        "id": "c-exgyIFCmTu",
        "colab_type": "code",
        "colab": {}
      },
      "source": [
        "#W1_E2: How optimistic are you that you will develop a serious and/or marital relationship?\n",
        "df[\"W1_E1\"] = df[\"W1_E1\"].apply(pd.to_numeric, errors='coerce')\n",
        "#W1_E3: Some people engage in interracial relationships, while others do not. Have you dated outside of your racial group?\n",
        "df[\"W1_E3\"] = df[\"W1_E3\"].apply(pd.to_numeric, errors='coerce')\n",
        "#PPMARIT: Marital Status\n",
        "df[\"PPMARIT\"] = df[\"PPMARIT\"].apply(pd.to_numeric, errors='coerce')\n",
        "#W1_J1_G: W1_J1_G [Provide free or heavily government subsidized childcare/preschool for poor families? ] What is your opinion about each of them? \n",
        "df[\"W1_J1_G\"] = df[\"W1_J1_G\"].apply(pd.to_numeric, errors='coerce')\n",
        "\n",
        "#W1_J1_F: [Make families with dependent children permanently eligible for welfare any time they fall below the poverty line? ] What is your opinion about each of them?\n",
        "df[\"W1_J1_F\"] = df[\"W1_J1_F\"].apply(pd.to_numeric, errors='coerce')\n",
        "\n"
      ],
      "execution_count": 0,
      "outputs": []
    },
    {
      "cell_type": "code",
      "metadata": {
        "id": "R87xaIxEEGoj",
        "colab_type": "code",
        "colab": {}
      },
      "source": [
        ""
      ],
      "execution_count": 0,
      "outputs": []
    },
    {
      "cell_type": "markdown",
      "metadata": {
        "id": "F_ICucloTB4v",
        "colab_type": "text"
      },
      "source": [
        "The frequency distributions of selected variables"
      ]
    },
    {
      "cell_type": "code",
      "metadata": {
        "id": "WXePmZSNbLBJ",
        "colab_type": "code",
        "outputId": "6881ce37-4bae-4130-9f52-03d15789fcb5",
        "colab": {
          "base_uri": "https://localhost:8080/",
          "height": 435
        }
      },
      "source": [
        "print('Distribution #W1_E2: How optimistic are you that you will develop a serious and/or marital relationship?')\n",
        "d1 = df['W1_E1'].value_counts(sort=True, dropna=False)\n",
        "print(d1)\n",
        "print('')\n",
        "print ('Percentage #W1_E2: How optimistic are you that you will develop a serious and/or marital relationship?')\n",
        "p1= df['W1_E1'].value_counts(sort=True, normalize=True)\n",
        "print (p1)\n",
        "print('')\n",
        "print ('Number of Missing Values')\n",
        "print (d1.iloc[5:6])"
      ],
      "execution_count": 0,
      "outputs": [
        {
          "output_type": "stream",
          "text": [
            "Distribution #W1_E2: How optimistic are you that you will develop a serious and/or marital relationship?\n",
            " 1    1398\n",
            " 6     492\n",
            " 2     168\n",
            " 3     119\n",
            " 4      66\n",
            "-1      37\n",
            " 5      14\n",
            "Name: W1_E1, dtype: int64\n",
            "\n",
            "Percentage #W1_E2: How optimistic are you that you will develop a serious and/or marital relationship?\n",
            " 1    0.609416\n",
            " 6    0.214473\n",
            " 2    0.073235\n",
            " 3    0.051874\n",
            " 4    0.028771\n",
            "-1    0.016129\n",
            " 5    0.006103\n",
            "Name: W1_E1, dtype: float64\n",
            "\n",
            "Number of Missing Values\n",
            "-1    37\n",
            "Name: W1_E1, dtype: int64\n"
          ],
          "name": "stdout"
        }
      ]
    },
    {
      "cell_type": "code",
      "metadata": {
        "id": "X8emA_YOSpbL",
        "colab_type": "code",
        "outputId": "c957333e-ee38-44eb-ca1c-37c3c1608251",
        "colab": {
          "base_uri": "https://localhost:8080/",
          "height": 310
        }
      },
      "source": [
        "print('Distribution #W1_E3: Some people engage in interracial relationships, while others do not. Have you dated outside of your racial group?')\n",
        "d1 = df['W1_E3'].value_counts(sort=True, dropna=False)\n",
        "print(d1)\n",
        "print('')\n",
        "print ('Percentage #W1_E3: Some people engage in interracial relationships, while others do not. Have you dated outside of your racial group?')\n",
        "p1= df['W1_E3'].value_counts(sort=True, normalize=True)\n",
        "print (p1)\n",
        "print('')\n",
        "print ('Number of Missing Values')\n",
        "print (d1.iloc[2:3])"
      ],
      "execution_count": 0,
      "outputs": [
        {
          "output_type": "stream",
          "text": [
            "Distribution #W1_E3: Some people engage in interracial relationships, while others do not. Have you dated outside of your racial group?\n",
            " 2    1297\n",
            " 1     956\n",
            "-1      41\n",
            "Name: W1_E3, dtype: int64\n",
            "\n",
            "Percentage #W1_E3: Some people engage in interracial relationships, while others do not. Have you dated outside of your racial group?\n",
            " 2    0.565388\n",
            " 1    0.416739\n",
            "-1    0.017873\n",
            "Name: W1_E3, dtype: float64\n",
            "\n",
            "Number of Missing Values\n",
            "-1    41\n",
            "Name: W1_E3, dtype: int64\n"
          ],
          "name": "stdout"
        }
      ]
    },
    {
      "cell_type": "code",
      "metadata": {
        "id": "_XYKBBRmqw03",
        "colab_type": "code",
        "outputId": "9726ea2b-fdd6-47f7-b48f-c9fe3c94f91a",
        "colab": {
          "base_uri": "https://localhost:8080/",
          "height": 345
        }
      },
      "source": [
        "print('Distribution #PPMARIT:  Marital Status')\n",
        "d1 = df['PPMARIT'].value_counts(sort=True, dropna=False)\n",
        "print(d1)\n",
        "print('')\n",
        "print (' Marital Status')\n",
        "p1= df['PPMARIT'].value_counts(sort=True, normalize=True)\n",
        "print (p1)\n",
        "print (' No Missing Values')"
      ],
      "execution_count": 0,
      "outputs": [
        {
          "output_type": "stream",
          "text": [
            "Distribution #PPMARIT:  Marital Status\n",
            "1    1063\n",
            "5     585\n",
            "3     280\n",
            "6     190\n",
            "2     118\n",
            "4      58\n",
            "Name: PPMARIT, dtype: int64\n",
            "\n",
            " Marital Status\n",
            "1    0.463383\n",
            "5    0.255013\n",
            "3    0.122058\n",
            "6    0.082825\n",
            "2    0.051439\n",
            "4    0.025283\n",
            "Name: PPMARIT, dtype: float64\n",
            " No Missing Values\n"
          ],
          "name": "stdout"
        }
      ]
    },
    {
      "cell_type": "code",
      "metadata": {
        "id": "lCHjzOzV0llz",
        "colab_type": "code",
        "outputId": "73a798e9-b39c-499f-a4be-894b7a8d3036",
        "colab": {
          "base_uri": "https://localhost:8080/",
          "height": 637
        }
      },
      "source": [
        "print('Distribution #W1_J1_G [Provide free or heavily government subsidized childcare/preschool for poor families? ] What is your opinion about each of them? ')\n",
        "d1 = df['W1_J1_G'].value_counts(sort=True, dropna=False)\n",
        "print(d1)\n",
        "print('')\n",
        "print ('Percentage W1_J1_G [Provide free or heavily government subsidized childcare/preschool for poor families? ] What is your opinion about each of them? ')\n",
        "p1= df['W1_J1_G'].value_counts(sort=True, normalize=True)\n",
        "print (p1)\n",
        "print('')\n",
        "print ('Number of Missing Values')\n",
        "print (d1.iloc[9:10])\n",
        "\n"
      ],
      "execution_count": 0,
      "outputs": [
        {
          "output_type": "stream",
          "text": [
            "Distribution #W1_J1_G [Provide free or heavily government subsidized childcare/preschool for poor families? ] What is your opinion about each of them? \n",
            " 10    462\n",
            " 5     387\n",
            " 8     218\n",
            " 7     215\n",
            " 6     200\n",
            " 0     167\n",
            " 9     165\n",
            " 4     127\n",
            " 3     118\n",
            "-1      94\n",
            " 2      85\n",
            " 1      56\n",
            "Name: W1_J1_G, dtype: int64\n",
            "\n",
            "Percentage W1_J1_G [Provide free or heavily government subsidized childcare/preschool for poor families? ] What is your opinion about each of them? \n",
            " 10    0.201395\n",
            " 5     0.168701\n",
            " 8     0.095031\n",
            " 7     0.093723\n",
            " 6     0.087184\n",
            " 0     0.072799\n",
            " 9     0.071927\n",
            " 4     0.055362\n",
            " 3     0.051439\n",
            "-1     0.040976\n",
            " 2     0.037053\n",
            " 1     0.024412\n",
            "Name: W1_J1_G, dtype: float64\n",
            "\n",
            "Number of Missing Values\n",
            "-1    94\n",
            "Name: W1_J1_G, dtype: int64\n"
          ],
          "name": "stdout"
        }
      ]
    },
    {
      "cell_type": "code",
      "metadata": {
        "id": "RbEJR2lsu1CO",
        "colab_type": "code",
        "outputId": "fcde587a-9dc2-4ec3-bc8e-7ad6a672944d",
        "colab": {
          "base_uri": "https://localhost:8080/",
          "height": 599
        }
      },
      "source": [
        "# recode missing values to python missing (NaN)\n",
        "df[\"W1_E1\"]=df[\"W1_E1\"].replace(-1, np.nan)\n",
        "df[\"W1_E3\"]=df[\"W1_E3\"].replace(-1, np.nan)\n",
        "df[\"W1_J1_G\"]=df[\"W1_J1_G\"].replace(-1, np.nan)\n",
        "df[\"W1_J1_F\"]=df[\"W1_J1_F\"].replace(-1, np.nan)\n",
        "df[\"PPMARIT\"]=df[\"PPMARIT\"].replace(-1, np.nan)\n",
        "d1 = df['W1_E1'].value_counts(sort=True, dropna=False)\n",
        "print(d1)\n",
        "d1 = df['W1_E3'].value_counts(sort=True, dropna=False)\n",
        "print(d1)\n",
        "d1 = df['W1_J1_G'].value_counts(sort=True, dropna=False)\n",
        "print(d1)\n",
        "d1 = df['PPMARIT'].value_counts(sort=True, dropna=False)\n",
        "print(d1)"
      ],
      "execution_count": 0,
      "outputs": [
        {
          "output_type": "stream",
          "text": [
            "1.0    1398\n",
            "6.0     492\n",
            "2.0     168\n",
            "3.0     119\n",
            "4.0      66\n",
            "NaN      37\n",
            "5.0      14\n",
            "Name: W1_E1, dtype: int64\n",
            "2.0    1297\n",
            "1.0     956\n",
            "NaN      41\n",
            "Name: W1_E3, dtype: int64\n",
            "10.0    462\n",
            "5.0     387\n",
            "8.0     218\n",
            "7.0     215\n",
            "6.0     200\n",
            "0.0     167\n",
            "9.0     165\n",
            "4.0     127\n",
            "3.0     118\n",
            "NaN      94\n",
            "2.0      85\n",
            "1.0      56\n",
            "Name: W1_J1_G, dtype: int64\n",
            "1    1063\n",
            "5     585\n",
            "3     280\n",
            "6     190\n",
            "2     118\n",
            "4      58\n",
            "Name: PPMARIT, dtype: int64\n"
          ],
          "name": "stdout"
        }
      ]
    },
    {
      "cell_type": "code",
      "metadata": {
        "id": "CcNsSqSsvS_d",
        "colab_type": "code",
        "outputId": "054f1650-cc43-4a21-d138-8484114c0356",
        "colab": {
          "base_uri": "https://localhost:8080/",
          "height": 254
        }
      },
      "source": [
        "#recoding values for PPMARIT into a new variable, PPMARIT_DESC\n",
        "recode1 = {1: \"Married\", 2: \"Widowed\", 3: \"Divorced\", 4: \"Separated\", 5: \"Never married\", 6: \"Living with partner\"}\n",
        "df[\"PPMARIT_DESC\"]=df[\"PPMARIT\"].map(recode1)\n",
        "df[\"PPMARIT_DESC\"]"
      ],
      "execution_count": 0,
      "outputs": [
        {
          "output_type": "execute_result",
          "data": {
            "text/plain": [
              "CASEID\n",
              "1                   Married\n",
              "2       Living with partner\n",
              "3                   Married\n",
              "4             Never married\n",
              "5             Never married\n",
              "               ...         \n",
              "2290                Married\n",
              "2291          Never married\n",
              "2292                Married\n",
              "2293                Married\n",
              "2294    Living with partner\n",
              "Name: PPMARIT_DESC, Length: 2294, dtype: object"
            ]
          },
          "metadata": {
            "tags": []
          },
          "execution_count": 14
        }
      ]
    },
    {
      "cell_type": "code",
      "metadata": {
        "id": "lpHxchZayHvk",
        "colab_type": "code",
        "outputId": "b8bb3151-5a66-4353-c0e0-801d23f9a6dc",
        "colab": {
          "base_uri": "https://localhost:8080/",
          "height": 254
        }
      },
      "source": [
        "#secondary variable W1_J1_G into 100 , W1_J1_100\n",
        "df['W1_J1_100']=df['W1_J1_G'] * 10\n",
        "df['W1_J1_100']\n",
        "\n",
        "\n"
      ],
      "execution_count": 0,
      "outputs": [
        {
          "output_type": "execute_result",
          "data": {
            "text/plain": [
              "CASEID\n",
              "1        10.0\n",
              "2       100.0\n",
              "3        40.0\n",
              "4        50.0\n",
              "5        40.0\n",
              "        ...  \n",
              "2290    100.0\n",
              "2291     10.0\n",
              "2292     50.0\n",
              "2293      0.0\n",
              "2294      0.0\n",
              "Name: W1_J1_100, Length: 2294, dtype: float64"
            ]
          },
          "metadata": {
            "tags": []
          },
          "execution_count": 15
        }
      ]
    },
    {
      "cell_type": "code",
      "metadata": {
        "id": "Vh4Jhoi11p6V",
        "colab_type": "code",
        "outputId": "10f3aedf-a71a-47cc-ba12-67e34ed87ed6",
        "colab": {
          "base_uri": "https://localhost:8080/",
          "height": 126
        }
      },
      "source": [
        "# quartile split (use qcut function & ask for 4 groups - gives you quartile split)\n",
        "print('W1_J1_100_GROUPPED W1_J1_100 - 4 categories - quartiles')\n",
        "df['W1_J1_100_GROUPPED']=pd.qcut(df.W1_J1_100, 4, labels=[\"1=0%tile\",\"2=25%tile\",\"3=50%tile\",\"4=75%tile\"])\n",
        "c4 = df['W1_J1_100_GROUPPED'].value_counts(sort=False, dropna=True)\n",
        "print(c4)"
      ],
      "execution_count": 0,
      "outputs": [
        {
          "output_type": "stream",
          "text": [
            "W1_J1_100_GROUPPED W1_J1_100 - 4 categories - quartiles\n",
            "1=0%tile     553\n",
            "2=25%tile    587\n",
            "3=50%tile    598\n",
            "4=75%tile    462\n",
            "Name: W1_J1_100_GROUPPED, dtype: int64\n"
          ],
          "name": "stdout"
        }
      ]
    },
    {
      "cell_type": "code",
      "metadata": {
        "id": "RELKZUtwMcIJ",
        "colab_type": "code",
        "outputId": "7bc0e14b-aa94-4cbe-a3bc-a0a74107453a",
        "colab": {
          "base_uri": "https://localhost:8080/",
          "height": 199
        }
      },
      "source": [
        "# categorize quantitative variable based on customized splits using cut function\n",
        "# splits into 2 groups Married at least once or not (3,ELSE)\n",
        "df['PPMARIT_GROUPPED'] = pd.cut(df.PPMARIT, [0, 3, 5])\n",
        "c5 = df['PPMARIT_GROUPPED'].value_counts(sort=False, dropna=True)\n",
        "print(c5)\n",
        "c5 = df['PPMARIT_DESC'].value_counts(sort=True, dropna=True)\n",
        "print(c5)"
      ],
      "execution_count": 0,
      "outputs": [
        {
          "output_type": "stream",
          "text": [
            "(0, 3]    1461\n",
            "(3, 5]     643\n",
            "Name: PPMARIT_GROUPPED, dtype: int64\n",
            "Married                1063\n",
            "Never married           585\n",
            "Divorced                280\n",
            "Living with partner     190\n",
            "Widowed                 118\n",
            "Separated                58\n",
            "Name: PPMARIT_DESC, dtype: int64\n"
          ],
          "name": "stdout"
        }
      ]
    },
    {
      "cell_type": "code",
      "metadata": {
        "id": "bWsh8LvqPnAa",
        "colab_type": "code",
        "outputId": "950feb2f-6b6a-4c75-9d3f-780569f3bc43",
        "colab": {
          "base_uri": "https://localhost:8080/",
          "height": 90
        }
      },
      "source": [
        "print (pd.crosstab(df['PPMARIT_GROUPPED'], df['PPMARIT_DESC']))"
      ],
      "execution_count": 0,
      "outputs": [
        {
          "output_type": "stream",
          "text": [
            "PPMARIT_DESC      Divorced  Married  Never married  Separated  Widowed\n",
            "PPMARIT_GROUPPED                                                      \n",
            "(0, 3]                 280     1063              0          0      118\n",
            "(3, 5]                   0        0            585         58        0\n"
          ],
          "name": "stdout"
        }
      ]
    },
    {
      "cell_type": "code",
      "metadata": {
        "id": "MxBfVFEuS_GC",
        "colab_type": "code",
        "colab": {}
      },
      "source": [
        "#new ETHNICITY variable, categorical 1 through 6\n",
        "def MARRIED_FLG (row):\n",
        "   if row['PPMARIT'] == 1 :\n",
        "      return 1\n",
        "   elif row['PPMARIT'] > 1 :\n",
        "      return 0\n",
        "  \n",
        "df['MARRIED_FLG'] = df.apply (lambda row: MARRIED_FLG (row),axis=1)"
      ],
      "execution_count": 0,
      "outputs": []
    },
    {
      "cell_type": "code",
      "metadata": {
        "id": "QWKdioTMUwP0",
        "colab_type": "code",
        "outputId": "50bf6d1e-18bb-4e5d-a88c-53e792cf292f",
        "colab": {
          "base_uri": "https://localhost:8080/",
          "height": 126
        }
      },
      "source": [
        "print (pd.crosstab(df['MARRIED_FLG'], df['PPMARIT_DESC']))"
      ],
      "execution_count": 0,
      "outputs": [
        {
          "output_type": "stream",
          "text": [
            "PPMARIT_DESC  Divorced  Living with partner  ...  Separated  Widowed\n",
            "MARRIED_FLG                                  ...                    \n",
            "0                  280                  190  ...         58      118\n",
            "1                    0                    0  ...          0        0\n",
            "\n",
            "[2 rows x 6 columns]\n"
          ],
          "name": "stdout"
        }
      ]
    },
    {
      "cell_type": "markdown",
      "metadata": {
        "id": "TUh_pGWkgjGH",
        "colab_type": "text"
      },
      "source": [
        "Graphs and Viualization"
      ]
    },
    {
      "cell_type": "code",
      "metadata": {
        "id": "vKQyL2Vmgh0_",
        "colab_type": "code",
        "outputId": "bcb230fa-5e54-4b3f-ac23-3ff812688a06",
        "colab": {
          "base_uri": "https://localhost:8080/",
          "height": 359
        }
      },
      "source": [
        "seaborn.countplot(x=\"PPMARIT_DESC\", data=df)\n",
        "plt.xlabel('Marital Status')\n",
        "plt.title('Marital Status Distrubiton in the OOL Study')\n",
        "plt.xticks(rotation=30)"
      ],
      "execution_count": 0,
      "outputs": [
        {
          "output_type": "execute_result",
          "data": {
            "text/plain": [
              "(array([0, 1, 2, 3, 4, 5]), <a list of 6 Text major ticklabel objects>)"
            ]
          },
          "metadata": {
            "tags": []
          },
          "execution_count": 36
        },
        {
          "output_type": "display_data",
          "data": {
            "image/png": "[encoded data removed]",
            "text/plain": [
              "<Figure size 432x288 with 1 Axes>"
            ]
          },
          "metadata": {
            "tags": [],
            "needs_background": "light"
          }
        }
      ]
    },
    {
      "cell_type": "code",
      "metadata": {
        "id": "cUCT5uupiRr9",
        "colab_type": "code",
        "outputId": "56b03988-7748-406b-cdc7-c0a4eb41a873",
        "colab": {
          "base_uri": "https://localhost:8080/",
          "height": 333
        }
      },
      "source": [
        "#Univariate histogram for quantitative variable:\n",
        "seaborn.distplot(df[\"W1_J1_100\"].dropna(), kde=False);\n",
        "plt.xlabel('Opinion of participants')\n",
        "plt.title('The distribution of opinion(1-100) of providig free or heavily government subsidized childcare/preschool for poor families?')\n"
      ],
      "execution_count": 0,
      "outputs": [
        {
          "output_type": "execute_result",
          "data": {
            "text/plain": [
              "Text(0.5, 1.0, 'The distribution of opinion(1-100) of providig free or heavily government subsidized childcare/preschool for poor families?')"
            ]
          },
          "metadata": {
            "tags": []
          },
          "execution_count": 42
        },
        {
          "output_type": "display_data",
          "data": {
            "image/png": "[encoded data removed]",
            "text/plain": [
              "<Figure size 432x288 with 1 Axes>"
            ]
          },
          "metadata": {
            "tags": [],
            "needs_background": "light"
          }
        }
      ]
    },
    {
      "cell_type": "code",
      "metadata": {
        "id": "s49fMciekSBh",
        "colab_type": "code",
        "outputId": "a813dc02-e4b8-410f-ee58-d9ef1e71f085",
        "colab": {
          "base_uri": "https://localhost:8080/",
          "height": 219
        }
      },
      "source": [
        "# standard deviation and other descriptive statistics for quantitative variables\n",
        "print('The distribution of opinion(1-100) of providig free or heavily government subsidized childcare/preschool for poor families?')\n",
        "desc1 = df['W1_J1_100'].describe()\n",
        "print(desc1)"
      ],
      "execution_count": 0,
      "outputs": [
        {
          "output_type": "stream",
          "text": [
            "The distribution of opinion(1-100) of providig free or heavily government subsidized childcare/preschool for poor families?\n",
            "count    2200.000000\n",
            "mean       61.713636\n",
            "std        30.628104\n",
            "min         0.000000\n",
            "25%        40.000000\n",
            "50%        60.000000\n",
            "75%        90.000000\n",
            "max       100.000000\n",
            "Name: W1_J1_100, dtype: float64\n"
          ],
          "name": "stdout"
        }
      ]
    },
    {
      "cell_type": "code",
      "metadata": {
        "id": "0Llx2SX1kxyE",
        "colab_type": "code",
        "outputId": "e9a4c3c2-e0a1-4014-8f4c-d989b5c938e0",
        "colab": {
          "base_uri": "https://localhost:8080/",
          "height": 363
        }
      },
      "source": [
        "size= df.groupby('W1_J1_100').size()\n",
        "mode= df['W1_J1_100'].mode()\n",
        "mean= df['W1_J1_100'].mean()\n",
        "print('size')\n",
        "print(size)\n",
        "print('mode')\n",
        "print(mode)\n",
        "print('mean')\n",
        "print(mean)\n",
        "\n"
      ],
      "execution_count": 0,
      "outputs": [
        {
          "output_type": "stream",
          "text": [
            "size\n",
            "W1_J1_100\n",
            "0.0      167\n",
            "10.0      56\n",
            "20.0      85\n",
            "30.0     118\n",
            "40.0     127\n",
            "50.0     387\n",
            "60.0     200\n",
            "70.0     215\n",
            "80.0     218\n",
            "90.0     165\n",
            "100.0    462\n",
            "dtype: int64\n",
            "mode\n",
            "0    100.0\n",
            "dtype: float64\n",
            "mean\n",
            "61.71363636363636\n"
          ],
          "name": "stdout"
        }
      ]
    },
    {
      "cell_type": "code",
      "metadata": {
        "id": "IrJJzJrrlyB3",
        "colab_type": "code",
        "outputId": "45cdc17d-1dbd-4823-a20e-7caa579208d8",
        "colab": {
          "base_uri": "https://localhost:8080/",
          "height": 574
        }
      },
      "source": [
        "# bivariate bar graph C->Q\n",
        "seaborn.factorplot(x=\"PPMARIT_DESC\", y=\"W1_J1_100\", data=df, kind=\"bar\", ci=None)\n",
        "plt.xlabel('Marital Status')\n",
        "plt.ylabel('opinion(1-100) of providig free or heavily government subsidized childcare/preschool for poor')\n",
        "plt.xticks(rotation=30)"
      ],
      "execution_count": 0,
      "outputs": [
        {
          "output_type": "stream",
          "text": [
            "/usr/local/lib/python3.6/dist-packages/seaborn/categorical.py:3666: UserWarning: The `factorplot` function has been renamed to `catplot`. The original name will be removed in a future release. Please update your code. Note that the default `kind` in `factorplot` (`'point'`) has changed `'strip'` in `catplot`.\n",
            "  warnings.warn(msg)\n"
          ],
          "name": "stderr"
        },
        {
          "output_type": "execute_result",
          "data": {
            "text/plain": [
              "(array([0, 1, 2, 3, 4, 5]), <a list of 6 Text major ticklabel objects>)"
            ]
          },
          "metadata": {
            "tags": []
          },
          "execution_count": 52
        },
        {
          "output_type": "display_data",
          "data": {
            "image/png": "[encoded data removed]",
            "text/plain": [
              "<Figure size 360x360 with 1 Axes>"
            ]
          },
          "metadata": {
            "tags": [],
            "needs_background": "light"
          }
        }
      ]
    },
    {
      "cell_type": "code",
      "metadata": {
        "id": "ZUxuy4Qqmq8X",
        "colab_type": "code",
        "outputId": "524f0554-c7e5-4870-b2ac-0aff0454f726",
        "colab": {
          "base_uri": "https://localhost:8080/",
          "height": 365
        }
      },
      "source": [
        "scat1 = seaborn.regplot(x=\"W1_J1_G\", y=\"W1_J1_F\", fit_reg=False, data=df)\n",
        "plt.xlabel('[Provide free or heavily government subsidized  for poor families? ] ')\n",
        "plt.ylabel('[Make families with dependent children permanently eligible? ]')\n",
        "plt.title(' Goverment Subsiziding Poors and Welfare Support')\n",
        "\n"
      ],
      "execution_count": 0,
      "outputs": [
        {
          "output_type": "execute_result",
          "data": {
            "text/plain": [
              "Text(0.5, 1.0, ' Goverment Subsiziding Poors and Welfare Support')"
            ]
          },
          "metadata": {
            "tags": []
          },
          "execution_count": 61
        },
        {
          "output_type": "display_data",
          "data": {
            "image/png": "[encoded data removed]",
            "text/plain": [
              "<Figure size 432x288 with 1 Axes>"
            ]
          },
          "metadata": {
            "tags": [],
            "needs_background": "light"
          }
        }
      ]
    }
  ]
}